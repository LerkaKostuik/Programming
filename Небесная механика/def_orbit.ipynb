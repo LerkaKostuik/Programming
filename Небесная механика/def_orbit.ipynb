{
 "cells": [
  {
   "cell_type": "markdown",
   "metadata": {},
   "source": [
    "# Вычислительная задача определения предварительной орбиты по трем наблюдениям методом Гаусса."
   ]
  },
  {
   "cell_type": "code",
   "execution_count": 1,
   "metadata": {},
   "outputs": [],
   "source": [
    "import numpy as np\n",
    "from sympy.solvers import solve\n",
    "from sympy import Symbol"
   ]
  },
  {
   "cell_type": "code",
   "execution_count": 2,
   "metadata": {},
   "outputs": [],
   "source": [
    "## 3 момента наблюдения 21.02 , 12.03 , 1.04\n",
    "Alpha_ = [5.75964, 5.90033, 6.17065]  #h\n",
    "Delta_ = [19.48434, 19.70853, 19.87678] #grad\n",
    "## геоцентрические прямоугольные экваториальные координаты Солнца\n",
    "X = [0.86926948, 0.98297332, 0.97936910]\n",
    "Y = [-0.43236176, -0.13314763, 0.18209277]\n",
    "Z = [-0.18743197,  -0.05771944,  0.07893439]\n",
    "## промежутки времени между наблюдениями\n",
    "tau1 = 20 # сут\n",
    "tau2 = 20 # сут\n",
    "tau = tau1+tau2\n",
    "kappa = 0.017202 "
   ]
  },
  {
   "cell_type": "code",
   "execution_count": 3,
   "metadata": {},
   "outputs": [],
   "source": [
    "## переведём в радианы\n",
    "Alpha = [Alpha_[i]*np.pi / 12. for i in range(3)]\n",
    "Delta = [Delta_[i]*np.pi / 180. for i in range(3)]"
   ]
  },
  {
   "cell_type": "code",
   "execution_count": 4,
   "metadata": {},
   "outputs": [],
   "source": [
    "Lambda = [np.cos(Delta[i])*np.cos(Alpha[i]) for i in range(3)]\n",
    "Mu = [np.cos(Delta[i])*np.sin(Alpha[i]) for i in range(3)]\n",
    "Nu = [np.sin(Delta[i]) for i in range(3)]\n"
   ]
  },
  {
   "cell_type": "code",
   "execution_count": 5,
   "metadata": {},
   "outputs": [],
   "source": [
    "D = np.array([[Lambda[1], Lambda[0], Lambda[2]],[Mu[1],Mu[0],Mu[2]],[Nu[1],Nu[0],Nu[2]]])\n",
    "detD = np.linalg.det(D)\n",
    "U = [X[i]*(Mu[0]*Nu[2]-Mu[2]*Nu[0]) + Y[i]*(Nu[0]*Lambda[2]-Nu[2]*Lambda[0])\n",
    "                                + Z[i]*(Mu[2]*Lambda[0]-Mu[0]*Lambda[2]) for i in range(3)]\n",
    "n0_1 = tau2/tau\n",
    "n0_2 = tau1/tau\n",
    "c_1 = kappa**2 * tau1 * tau2 * (1+n0_1)/6\n",
    "c_2 = kappa**2 * tau1 * tau2 * (1+n0_2)/6"
   ]
  },
  {
   "cell_type": "code",
   "execution_count": 6,
   "metadata": {},
   "outputs": [],
   "source": [
    "P = (U[1]-n0_1*U[0]-n0_2*U[2]) / detD\n",
    "Q = (c_1*U[0]+c_2*U[2]) / detD\n",
    "C = -(Lambda[1]*X[1]+Mu[1]*Y[1]+Nu[1]*Z[1])\n",
    "R_square = X[1]**2+Y[1]**2+Z[1]**2"
   ]
  },
  {
   "cell_type": "code",
   "execution_count": 7,
   "metadata": {},
   "outputs": [
    {
     "name": "stdout",
     "output_type": "stream",
     "text": [
      "[-3.16437636451661, 2.99379503411122, -0.541467322616619 - 0.732079189340939*I, -0.541467322616619 + 0.732079189340939*I, -0.348598542988237 - 0.891134363386735*I, -0.348598542988237 + 0.891134363386735*I, 0.975356530807553 - 0.0214741539657337*I, 0.975356530807553 + 0.0214741539657337*I]\n",
      "[2.88612149780267, 2.70604369069965, (-2.61635646683655 + 2.80354955209334*(-0.541467322616619 - 0.732079189340939*I)**3)/(-0.541467322616619 - 0.732079189340939*I)**3, (-2.61635646683655 + 2.80354955209334*(-0.541467322616619 + 0.732079189340939*I)**3)/(-0.541467322616619 + 0.732079189340939*I)**3, (-2.61635646683655 + 2.80354955209334*(-0.348598542988237 - 0.891134363386735*I)**3)/(-0.348598542988237 - 0.891134363386735*I)**3, (-2.61635646683655 + 2.80354955209334*(-0.348598542988237 + 0.891134363386735*I)**3)/(-0.348598542988237 + 0.891134363386735*I)**3, (-2.61635646683655 + 2.80354955209334*(0.975356530807553 - 0.0214741539657337*I)**3)/(0.975356530807553 - 0.0214741539657337*I)**3, (-2.61635646683655 + 2.80354955209334*(0.975356530807553 + 0.0214741539657337*I)**3)/(0.975356530807553 + 0.0214741539657337*I)**3]\n"
     ]
    }
   ],
   "source": [
    "## Решим систему уравнений Лагранжа и получим гелиоцентрические и геоцентрические расстояния\n",
    "x = Symbol('x')\n",
    "roots = []\n",
    "funct = x**8 - (P*x**3-Q)**2 - 2*C*x**3*(P*x**3-Q) - R_square*x**6\n",
    "roots = solve(funct, x)\n",
    "\n",
    "k = [(P*root**3-Q) / root**3 for root in roots]\n",
    "            \n",
    "print(roots)                   \n",
    "print(k)\n",
    "           "
   ]
  },
  {
   "cell_type": "code",
   "execution_count": 8,
   "metadata": {},
   "outputs": [],
   "source": [
    "## Выберем пару положительных значений для расстояний\n",
    "r = 2.99379503411122\n",
    "ro = 2.70604369069965"
   ]
  },
  {
   "cell_type": "code",
   "execution_count": 9,
   "metadata": {},
   "outputs": [],
   "source": [
    "n1 = n0_1 + c_1 / r**3\n",
    "n2 = n0_2 + c_2 / r**3"
   ]
  },
  {
   "cell_type": "code",
   "execution_count": 10,
   "metadata": {},
   "outputs": [
    {
     "data": {
      "text/plain": [
       "{x: 2.44261930042480, y: 2.70604369069964, z: 2.97967362945131}"
      ]
     },
     "execution_count": 10,
     "metadata": {},
     "output_type": "execute_result"
    }
   ],
   "source": [
    "## Найдём геоцентрические кооринаты, для двух других моментов, для этого нужно решить систему линейных уравнений\n",
    "from sympy.solvers.solvers import solve_linear_system_LU\n",
    "from sympy import Matrix\n",
    "from sympy.abc import x, y, z\n",
    "solve_linear_system_LU(Matrix([\n",
    "       [n1*Lambda[0], -Lambda[1], n2*Lambda[2], n1*X[0]-X[1]+n2*X[2]],\n",
    "       [n1*Mu[0], -Mu[1], n2*Mu[2], n1*Y[0]-Y[1]+n2*Y[2]],\n",
    "       [n1*Nu[0], -Nu[1], n2*Nu[2], n1*Z[0]-Z[1]+n2*Z[2]]]), [x, y, z])"
   ]
  },
  {
   "cell_type": "code",
   "execution_count": 11,
   "metadata": {},
   "outputs": [],
   "source": [
    "ro_ = [2.44261930042480, 2.70604369069964, 2.97967362945131]"
   ]
  },
  {
   "cell_type": "code",
   "execution_count": 12,
   "metadata": {},
   "outputs": [
    {
     "name": "stdout",
     "output_type": "stream",
     "text": [
      "[-0.7244628242415352, -0.9165069155145013, -1.1045170557809623]\n",
      "[2.7305412642895397, 2.679805003869605, 2.617273740150062]\n",
      "[1.0021656966366694, 0.9702932140948198, 0.9341500433330024]\n"
     ]
    }
   ],
   "source": [
    "## Найдём гелиоцентрические координаты для всех моментов\n",
    "x_ = [ro_[i]*Lambda[i]-X[i] for i in range(3)]\n",
    "y_ = [ro_[i]*Mu[i]-Y[i] for i in range(3)]\n",
    "z_ = [ro_[i]*Nu[i]-Z[i] for i in range(3)]\n",
    "print(x_)\n",
    "print(y_)\n",
    "print(z_)"
   ]
  },
  {
   "cell_type": "code",
   "execution_count": null,
   "metadata": {},
   "outputs": [],
   "source": []
  },
  {
   "cell_type": "code",
   "execution_count": 76,
   "metadata": {},
   "outputs": [
    {
     "name": "stdout",
     "output_type": "stream",
     "text": [
      "[-0.72446282  2.73054126  1.0021657 ] [-1.10451706  2.61727374  0.93415004]\n"
     ]
    }
   ],
   "source": [
    "r1 = np.array([x_[0], y_[0], z_[0]])\n",
    "r2 = np.array([x_[1], y_[1], z_[1]])\n",
    "r3 = np.array([x_[2], y_[2], z_[2]])\n",
    "print(r1, r3)"
   ]
  },
  {
   "cell_type": "code",
   "execution_count": 77,
   "metadata": {},
   "outputs": [
    {
     "name": "stdout",
     "output_type": "stream",
     "text": [
      "3.0739221509814847\n"
     ]
    }
   ],
   "source": [
    "c1 = np.linalg.norm(np.cross(r2,r3)) / np.linalg.norm(np.cross(r1,r3))\n",
    "c3 = np.linalg.norm(np.cross(r1,r2)) / np.linalg.norm(np.cross(r1,r3))\n",
    "p = (c1*np.linalg.norm(r1) + c3*np.linalg.norm(r3) - np.linalg.norm(r2))/(c1+c3-1) \n",
    "print(p)"
   ]
  },
  {
   "cell_type": "code",
   "execution_count": 78,
   "metadata": {},
   "outputs": [
    {
     "name": "stdout",
     "output_type": "stream",
     "text": [
      "[-0.38828731 -0.0822366  -0.05662666]\n"
     ]
    }
   ],
   "source": [
    "## Сначала введём вспомогательный вектор\n",
    "sigma = np.dot(r1,r3)/np.linalg.norm(r1)**2\n",
    "\n",
    "r0 = r3 - sigma*r1 \n",
    "print(r0)"
   ]
  },
  {
   "cell_type": "code",
   "execution_count": 80,
   "metadata": {},
   "outputs": [
    {
     "name": "stdout",
     "output_type": "stream",
     "text": [
      "3.8523415957317435\n",
      "0.025493480926748635 0.02791722495013671\n"
     ]
    }
   ],
   "source": [
    "f_double = np.arctan(np.linalg.norm(r0)*np.linalg.norm(r1)/np.dot(r1,r3))\n",
    "\n",
    "q1 = p/np.linalg.norm(r1) - 1\n",
    "q2 = p/np.linalg.norm(r3) - 1\n",
    "\n",
    "e_sin_theta1 = q1 / np.tan(f_double) - q2 / np.sin(f_double)\n",
    "print(f_double*180/np.pi/2)\n",
    "print(q1,q2)"
   ]
  },
  {
   "cell_type": "code",
   "execution_count": 82,
   "metadata": {},
   "outputs": [
    {
     "name": "stdout",
     "output_type": "stream",
     "text": [
      "3.0771278083874143 0.03227645178708854\n",
      "322.17128028649825 329.87596347796176\n"
     ]
    }
   ],
   "source": [
    "## Найдём истиные аномалии для 1 и 3 наблюдений, а также эксцентриситет и большую полуось\n",
    "theta1 = np.arctan2(e_sin_theta1,q1) # rad\n",
    "theta2 = theta1 + f_double\n",
    "e = q1 / np.cos(theta1)\n",
    "a = p/(1-e**2)\n",
    "print(a,e)\n",
    "print(360.+theta1*180./np.pi,360+theta2*180./np.pi)"
   ]
  },
  {
   "cell_type": "code",
   "execution_count": 86,
   "metadata": {},
   "outputs": [
    {
     "name": "stdout",
     "output_type": "stream",
     "text": [
      "323.2914416268893 330.7915195088296\n",
      "324.3968539449184\n"
     ]
    }
   ],
   "source": [
    "## Найдём эксцентрические аномалии\n",
    "E1 = 2 * np.arctan(np.sqrt((1-e)/(1+e)) * np.tan(theta1/2))\n",
    "E2 = 2 * np.arctan(np.sqrt((1-e)/(1+e)) * np.tan(theta2/2))\n",
    "\n",
    "## Средняя аномалия\n",
    "M1 = E1 - e * np.sin(E1)\n",
    "M0 = M1\n",
    "print(360.+E1*180./np.pi,360+E2*180./np.pi)\n",
    "print(360.+M0*180./np.pi)"
   ]
  },
  {
   "cell_type": "code",
   "execution_count": 87,
   "metadata": {},
   "outputs": [
    {
     "name": "stdout",
     "output_type": "stream",
     "text": [
      "[-0.7848761889207359, 0.5937015190188151, 0.17744823014055466]\n",
      "[-0.6167327250984217, -0.7206945323058915, -0.31660722811879133]\n"
     ]
    }
   ],
   "source": [
    "### Будем искать наклон, аргумент перицентра и долготу восходящего узла \n",
    "\n",
    "## Сначала найдём векторные элементы P и Q\n",
    "P = [r1[i]/np.linalg.norm(r1)*np.cos(theta1) - r0[i]/np.linalg.norm(r0)*np.sin(theta1) for i in range(3)]\n",
    "Q = [r1[i]/np.linalg.norm(r1)*np.sin(theta1) + r0[i]/np.linalg.norm(r0)*np.cos(theta1) for i in range(3)]\n",
    "eps = 23.43674167*np.pi/180.\n",
    "\n",
    "omega = np.arctan2((P[2]*np.cos(eps) - P[1]*np.sin(eps)),(Q[2]*np.cos(eps) - Q[1]*np.sin(eps)))\n",
    "i = np.arcsin((P[2]*np.cos(eps) - P[1]*np.sin(eps))/ np.sin(omega))\n",
    "Omega = np.arctan2((P[1]*np.cos(omega)-Q[1]*np.sin(omega))/np.cos(eps),P[0]*np.cos(omega)-Q[0]*np.sin(omega))\n",
    "print(P)\n",
    "print(Q)                 "
   ]
  },
  {
   "cell_type": "code",
   "execution_count": 88,
   "metadata": {},
   "outputs": [
    {
     "name": "stdout",
     "output_type": "stream",
     "text": [
      "эксцентриситет e = 0.03227645178708854\n",
      "большая полуось a = 3.0771278083874143\n",
      "средняя аномалия M0 = 324.3968539449184\n",
      "наклон орбиты i = 4.210931054835446\n",
      "аргумент перицентра ω = 267.0017909689504\n",
      "долгота восходящего узла Ω = 234.91186760312098\n"
     ]
    }
   ],
   "source": [
    "## Выведем все параметры орбиты:\n",
    "\n",
    "print('эксцентриситет e =',e)\n",
    "print('большая полуось a =',a)\n",
    "print('средняя аномалия M0 =',360+M0*180./np.pi)\n",
    "print('наклон орбиты i =',i*180./np.pi)\n",
    "print('аргумент перицентра ω =',360.+omega*180./np.pi)\n",
    "print('долгота восходящего узла Ω =',360.+Omega*180./np.pi)"
   ]
  },
  {
   "cell_type": "code",
   "execution_count": null,
   "metadata": {},
   "outputs": [],
   "source": []
  }
 ],
 "metadata": {
  "kernelspec": {
   "display_name": "Python 3",
   "language": "python",
   "name": "python3"
  },
  "language_info": {
   "codemirror_mode": {
    "name": "ipython",
    "version": 3
   },
   "file_extension": ".py",
   "mimetype": "text/x-python",
   "name": "python",
   "nbconvert_exporter": "python",
   "pygments_lexer": "ipython3",
   "version": "3.5.2"
  }
 },
 "nbformat": 4,
 "nbformat_minor": 2
}
